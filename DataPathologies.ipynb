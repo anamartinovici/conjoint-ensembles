{
 "cells": [
  {
   "cell_type": "markdown",
   "metadata": {},
   "source": [
    "# Exploring Data Pathologies in Conjoint Studies"
   ]
  },
  {
   "cell_type": "markdown",
   "metadata": {},
   "source": [
    "*The effect of pathological behavior on HBMNL models*"
   ]
  },
  {
   "cell_type": "code",
   "execution_count": 1,
   "metadata": {},
   "outputs": [],
   "source": [
    "from PYTHON import utils\n",
    "from PYTHON import stan_utility\n",
    "import matplotlib.pyplot as plt\n",
    "import pystan\n",
    "import numpy as np\n",
    "%matplotlib inline\n",
    "\n",
    "plt.style.use(\"./analysis.mplstyle\")"
   ]
  },
  {
   "cell_type": "code",
   "execution_count": 12,
   "metadata": {},
   "outputs": [
    {
     "data": {
      "text/plain": [
       "<module 'PYTHON.utils' from '/Users/derekmiller/repos/clever-randomization/PYTHON/utils.py'>"
      ]
     },
     "execution_count": 12,
     "metadata": {},
     "output_type": "execute_result"
    }
   ],
   "source": [
    "import importlib\n",
    "importlib.reload(utils)"
   ]
  },
  {
   "cell_type": "markdown",
   "metadata": {},
   "source": [
    "*generate data and build models*"
   ]
  },
  {
   "cell_type": "code",
   "execution_count": 13,
   "metadata": {},
   "outputs": [],
   "source": [
    "# initialize dictionaries to store the various models, data, and fit objects\n",
    "DATA = dict()\n",
    "MODEL = dict()\n",
    "FIT = dict()"
   ]
  },
  {
   "cell_type": "code",
   "execution_count": 14,
   "metadata": {},
   "outputs": [
    {
     "name": "stderr",
     "output_type": "stream",
     "text": [
      "INFO:pystan:COMPILING THE C++ CODE FOR MODEL anon_model_f1ea3616d9ae30be473a56af78ca9b3d NOW.\n"
     ]
    }
   ],
   "source": [
    "model_list = ['mnl_relu', 'mnl_fhorseshoe']\n",
    "\n",
    "# generate data\n",
    "DATA['screening_random'] = utils.generate_simulated_data(pathology_type='screening_random')\n",
    "\n",
    "# get models\n",
    "for m in model_list:\n",
    "    MODEL[m] = utils.get_model(model_name=m)"
   ]
  },
  {
   "cell_type": "markdown",
   "metadata": {},
   "source": [
    "## Results"
   ]
  },
  {
   "cell_type": "code",
   "execution_count": 15,
   "metadata": {
    "scrolled": true
   },
   "outputs": [
    {
     "name": "stderr",
     "output_type": "stream",
     "text": [
      "WARNING:pystan:n_eff / iter for parameter L_Omega[1,1] is nan!\n",
      "WARNING:pystan:n_eff / iter for parameter L_Omega[1,2] is nan!\n",
      "WARNING:pystan:n_eff / iter for parameter L_Omega[1,3] is nan!\n",
      "WARNING:pystan:n_eff / iter for parameter L_Omega[2,3] is nan!\n",
      "WARNING:pystan:n_eff / iter for parameter L_Omega[1,4] is nan!\n",
      "WARNING:pystan:n_eff / iter for parameter L_Omega[2,4] is nan!\n",
      "WARNING:pystan:n_eff / iter for parameter L_Omega[3,4] is nan!\n",
      "WARNING:pystan:n_eff / iter for parameter L_Omega[1,5] is nan!\n",
      "WARNING:pystan:n_eff / iter for parameter L_Omega[2,5] is nan!\n",
      "WARNING:pystan:n_eff / iter for parameter L_Omega[3,5] is nan!\n",
      "WARNING:pystan:n_eff / iter for parameter L_Omega[4,5] is nan!\n",
      "WARNING:pystan:n_eff / iter for parameter L_Omega[1,6] is nan!\n",
      "WARNING:pystan:n_eff / iter for parameter L_Omega[2,6] is nan!\n",
      "WARNING:pystan:n_eff / iter for parameter L_Omega[3,6] is nan!\n",
      "WARNING:pystan:n_eff / iter for parameter L_Omega[4,6] is nan!\n",
      "WARNING:pystan:n_eff / iter for parameter L_Omega[5,6] is nan!\n",
      "WARNING:pystan:n_eff / iter for parameter L_Omega[1,7] is nan!\n",
      "WARNING:pystan:n_eff / iter for parameter L_Omega[2,7] is nan!\n",
      "WARNING:pystan:n_eff / iter for parameter L_Omega[3,7] is nan!\n",
      "WARNING:pystan:n_eff / iter for parameter L_Omega[4,7] is nan!\n",
      "WARNING:pystan:n_eff / iter for parameter L_Omega[5,7] is nan!\n",
      "WARNING:pystan:n_eff / iter for parameter L_Omega[6,7] is nan!\n",
      "WARNING:pystan:n_eff / iter for parameter L_Omega[1,8] is nan!\n",
      "WARNING:pystan:n_eff / iter for parameter L_Omega[2,8] is nan!\n",
      "WARNING:pystan:n_eff / iter for parameter L_Omega[3,8] is nan!\n",
      "WARNING:pystan:n_eff / iter for parameter L_Omega[4,8] is nan!\n",
      "WARNING:pystan:n_eff / iter for parameter L_Omega[5,8] is nan!\n",
      "WARNING:pystan:n_eff / iter for parameter L_Omega[6,8] is nan!\n",
      "WARNING:pystan:n_eff / iter for parameter L_Omega[7,8] is nan!\n",
      "WARNING:pystan:n_eff / iter for parameter L_Omega[1,9] is nan!\n",
      "WARNING:pystan:n_eff / iter for parameter L_Omega[2,9] is nan!\n",
      "WARNING:pystan:n_eff / iter for parameter L_Omega[3,9] is nan!\n",
      "WARNING:pystan:n_eff / iter for parameter L_Omega[4,9] is nan!\n",
      "WARNING:pystan:n_eff / iter for parameter L_Omega[5,9] is nan!\n",
      "WARNING:pystan:n_eff / iter for parameter L_Omega[6,9] is nan!\n",
      "WARNING:pystan:n_eff / iter for parameter L_Omega[7,9] is nan!\n",
      "WARNING:pystan:n_eff / iter for parameter L_Omega[8,9] is nan!\n",
      "WARNING:pystan:n_eff / iter for parameter L_Omega[1,10] is nan!\n",
      "WARNING:pystan:n_eff / iter for parameter L_Omega[2,10] is nan!\n",
      "WARNING:pystan:n_eff / iter for parameter L_Omega[3,10] is nan!\n",
      "WARNING:pystan:n_eff / iter for parameter L_Omega[4,10] is nan!\n",
      "WARNING:pystan:n_eff / iter for parameter L_Omega[5,10] is nan!\n",
      "WARNING:pystan:n_eff / iter for parameter L_Omega[6,10] is nan!\n",
      "WARNING:pystan:n_eff / iter for parameter L_Omega[7,10] is nan!\n",
      "WARNING:pystan:n_eff / iter for parameter L_Omega[8,10] is nan!\n",
      "WARNING:pystan:n_eff / iter for parameter L_Omega[9,10] is nan!\n",
      "WARNING:pystan:n_eff / iter for parameter L_Omega[1,11] is nan!\n",
      "WARNING:pystan:n_eff / iter for parameter L_Omega[2,11] is nan!\n",
      "WARNING:pystan:n_eff / iter for parameter L_Omega[3,11] is nan!\n",
      "WARNING:pystan:n_eff / iter for parameter L_Omega[4,11] is nan!\n",
      "WARNING:pystan:n_eff / iter for parameter L_Omega[5,11] is nan!\n",
      "WARNING:pystan:n_eff / iter for parameter L_Omega[6,11] is nan!\n",
      "WARNING:pystan:n_eff / iter for parameter L_Omega[7,11] is nan!\n",
      "WARNING:pystan:n_eff / iter for parameter L_Omega[8,11] is nan!\n",
      "WARNING:pystan:n_eff / iter for parameter L_Omega[9,11] is nan!\n",
      "WARNING:pystan:n_eff / iter for parameter L_Omega[10,11] is nan!\n",
      "WARNING:pystan:n_eff / iter for parameter L_Omega[1,12] is nan!\n",
      "WARNING:pystan:n_eff / iter for parameter L_Omega[2,12] is nan!\n",
      "WARNING:pystan:n_eff / iter for parameter L_Omega[3,12] is nan!\n",
      "WARNING:pystan:n_eff / iter for parameter L_Omega[4,12] is nan!\n",
      "WARNING:pystan:n_eff / iter for parameter L_Omega[5,12] is nan!\n",
      "WARNING:pystan:n_eff / iter for parameter L_Omega[6,12] is nan!\n",
      "WARNING:pystan:n_eff / iter for parameter L_Omega[7,12] is nan!\n",
      "WARNING:pystan:n_eff / iter for parameter L_Omega[8,12] is nan!\n",
      "WARNING:pystan:n_eff / iter for parameter L_Omega[9,12] is nan!\n",
      "WARNING:pystan:n_eff / iter for parameter L_Omega[10,12] is nan!\n",
      "WARNING:pystan:n_eff / iter for parameter L_Omega[11,12] is nan!\n",
      "WARNING:pystan:n_eff / iter for parameter Y_ppc[4,1] is nan!\n",
      "WARNING:pystan:n_eff / iter for parameter Y_ppc[90,1] is nan!\n",
      "WARNING:pystan:n_eff / iter for parameter Y_ppc[97,1] is nan!\n",
      "WARNING:pystan:n_eff / iter for parameter Y_ppc[12,2] is nan!\n",
      "WARNING:pystan:n_eff / iter for parameter Y_ppc[20,2] is nan!\n",
      "WARNING:pystan:n_eff / iter for parameter Y_ppc[74,2] is nan!\n",
      "WARNING:pystan:n_eff / iter for parameter Y_ppc[94,2] is nan!\n",
      "WARNING:pystan:n_eff / iter for parameter Y_ppc[75,4] is nan!\n",
      "WARNING:pystan:n_eff / iter for parameter Y_ppc[55,5] is nan!\n",
      "WARNING:pystan:n_eff / iter for parameter Y_ppc[5,6] is nan!\n",
      "WARNING:pystan:n_eff / iter for parameter Y_ppc[8,6] is nan!\n",
      "WARNING:pystan:n_eff / iter for parameter Y_ppc[68,6] is nan!\n",
      "WARNING:pystan:n_eff / iter for parameter Y_ppc[48,7] is nan!\n",
      "WARNING:pystan:n_eff / iter for parameter Y_ppc[26,8] is nan!\n",
      "WARNING:pystan:n_eff / iter for parameter Y_ppc[79,8] is nan!\n",
      "WARNING:pystan:n_eff / iter for parameter Y_ppc[84,8] is nan!\n",
      "WARNING:pystan:n_eff / iter for parameter Y_ppc[92,9] is nan!\n",
      "WARNING:pystan:n_eff / iter for parameter Y_ppc[26,10] is nan!\n",
      "WARNING:pystan:n_eff / iter for parameter Y_ppc[31,10] is nan!\n",
      "WARNING:pystan:n_eff / iter for parameter Y_ppc[86,10] is nan!\n",
      "WARNING:pystan:n_eff / iter below 0.001 indicates that the effective sample size has likely been overestimated\n",
      "WARNING:pystan:Rhat for parameter L_Omega[1,1] is nan!\n",
      "WARNING:pystan:Rhat for parameter L_Omega[1,2] is nan!\n",
      "WARNING:pystan:Rhat for parameter L_Omega[1,3] is nan!\n",
      "WARNING:pystan:Rhat for parameter L_Omega[2,3] is nan!\n",
      "WARNING:pystan:Rhat for parameter L_Omega[1,4] is nan!\n",
      "WARNING:pystan:Rhat for parameter L_Omega[2,4] is nan!\n",
      "WARNING:pystan:Rhat for parameter L_Omega[3,4] is nan!\n",
      "WARNING:pystan:Rhat for parameter L_Omega[1,5] is nan!\n",
      "WARNING:pystan:Rhat for parameter L_Omega[2,5] is nan!\n",
      "WARNING:pystan:Rhat for parameter L_Omega[3,5] is nan!\n",
      "WARNING:pystan:Rhat for parameter L_Omega[4,5] is nan!\n",
      "WARNING:pystan:Rhat for parameter L_Omega[1,6] is nan!\n",
      "WARNING:pystan:Rhat for parameter L_Omega[2,6] is nan!\n",
      "WARNING:pystan:Rhat for parameter L_Omega[3,6] is nan!\n",
      "WARNING:pystan:Rhat for parameter L_Omega[4,6] is nan!\n",
      "WARNING:pystan:Rhat for parameter L_Omega[5,6] is nan!\n",
      "WARNING:pystan:Rhat for parameter L_Omega[1,7] is nan!\n",
      "WARNING:pystan:Rhat for parameter L_Omega[2,7] is nan!\n",
      "WARNING:pystan:Rhat for parameter L_Omega[3,7] is nan!\n",
      "WARNING:pystan:Rhat for parameter L_Omega[4,7] is nan!\n",
      "WARNING:pystan:Rhat for parameter L_Omega[5,7] is nan!\n",
      "WARNING:pystan:Rhat for parameter L_Omega[6,7] is nan!\n",
      "WARNING:pystan:Rhat for parameter L_Omega[1,8] is nan!\n",
      "WARNING:pystan:Rhat for parameter L_Omega[2,8] is nan!\n",
      "WARNING:pystan:Rhat for parameter L_Omega[3,8] is nan!\n",
      "WARNING:pystan:Rhat for parameter L_Omega[4,8] is nan!\n",
      "WARNING:pystan:Rhat for parameter L_Omega[5,8] is nan!\n",
      "WARNING:pystan:Rhat for parameter L_Omega[6,8] is nan!\n",
      "WARNING:pystan:Rhat for parameter L_Omega[7,8] is nan!\n",
      "WARNING:pystan:Rhat for parameter L_Omega[1,9] is nan!\n",
      "WARNING:pystan:Rhat for parameter L_Omega[2,9] is nan!\n",
      "WARNING:pystan:Rhat for parameter L_Omega[3,9] is nan!\n",
      "WARNING:pystan:Rhat for parameter L_Omega[4,9] is nan!\n",
      "WARNING:pystan:Rhat for parameter L_Omega[5,9] is nan!\n",
      "WARNING:pystan:Rhat for parameter L_Omega[6,9] is nan!\n",
      "WARNING:pystan:Rhat for parameter L_Omega[7,9] is nan!\n",
      "WARNING:pystan:Rhat for parameter L_Omega[8,9] is nan!\n",
      "WARNING:pystan:Rhat for parameter L_Omega[1,10] is nan!\n",
      "WARNING:pystan:Rhat for parameter L_Omega[2,10] is nan!\n",
      "WARNING:pystan:Rhat for parameter L_Omega[3,10] is nan!\n",
      "WARNING:pystan:Rhat for parameter L_Omega[4,10] is nan!\n",
      "WARNING:pystan:Rhat for parameter L_Omega[5,10] is nan!\n",
      "WARNING:pystan:Rhat for parameter L_Omega[6,10] is nan!\n",
      "WARNING:pystan:Rhat for parameter L_Omega[7,10] is nan!\n",
      "WARNING:pystan:Rhat for parameter L_Omega[8,10] is nan!\n",
      "WARNING:pystan:Rhat for parameter L_Omega[9,10] is nan!\n",
      "WARNING:pystan:Rhat for parameter L_Omega[1,11] is nan!\n"
     ]
    },
    {
     "name": "stderr",
     "output_type": "stream",
     "text": [
      "WARNING:pystan:Rhat for parameter L_Omega[2,11] is nan!\n",
      "WARNING:pystan:Rhat for parameter L_Omega[3,11] is nan!\n",
      "WARNING:pystan:Rhat for parameter L_Omega[4,11] is nan!\n",
      "WARNING:pystan:Rhat for parameter L_Omega[5,11] is nan!\n",
      "WARNING:pystan:Rhat for parameter L_Omega[6,11] is nan!\n",
      "WARNING:pystan:Rhat for parameter L_Omega[7,11] is nan!\n",
      "WARNING:pystan:Rhat for parameter L_Omega[8,11] is nan!\n",
      "WARNING:pystan:Rhat for parameter L_Omega[9,11] is nan!\n",
      "WARNING:pystan:Rhat for parameter L_Omega[10,11] is nan!\n",
      "WARNING:pystan:Rhat for parameter L_Omega[1,12] is nan!\n",
      "WARNING:pystan:Rhat for parameter L_Omega[2,12] is nan!\n",
      "WARNING:pystan:Rhat for parameter L_Omega[3,12] is nan!\n",
      "WARNING:pystan:Rhat for parameter L_Omega[4,12] is nan!\n",
      "WARNING:pystan:Rhat for parameter L_Omega[5,12] is nan!\n",
      "WARNING:pystan:Rhat for parameter L_Omega[6,12] is nan!\n",
      "WARNING:pystan:Rhat for parameter L_Omega[7,12] is nan!\n",
      "WARNING:pystan:Rhat for parameter L_Omega[8,12] is nan!\n",
      "WARNING:pystan:Rhat for parameter L_Omega[9,12] is nan!\n",
      "WARNING:pystan:Rhat for parameter L_Omega[10,12] is nan!\n",
      "WARNING:pystan:Rhat for parameter L_Omega[11,12] is nan!\n",
      "WARNING:pystan:Rhat for parameter Y_ppc[4,1] is nan!\n",
      "WARNING:pystan:Rhat for parameter Y_ppc[90,1] is nan!\n",
      "WARNING:pystan:Rhat for parameter Y_ppc[84,8] is nan!\n",
      "WARNING:pystan:Rhat above 1.1 or below 0.9 indicates that the chains very likely have not mixed\n"
     ]
    }
   ],
   "source": [
    "# fit model\n",
    "m = 'mnl_relu'\n",
    "d = 'screening_random'\n",
    "f = m + \"|\" + d\n",
    "\n",
    "FIT[f] = MODEL[m].sampling(DATA[d], control={'adapt_delta':.9})"
   ]
  },
  {
   "cell_type": "code",
   "execution_count": 16,
   "metadata": {},
   "outputs": [
    {
     "name": "stdout",
     "output_type": "stream",
     "text": [
      "Results for fit mnl_relu|screening_random\n"
     ]
    },
    {
     "data": {
      "image/png": "[encoded data removed]",
      "text/plain": [
       "<Figure size 1152x576 with 2 Axes>"
      ]
     },
     "metadata": {},
     "output_type": "display_data"
    },
    {
     "data": {
      "image/png": "[encoded data removed]",
      "text/plain": [
       "<Figure size 576x576 with 1 Axes>"
      ]
     },
     "metadata": {},
     "output_type": "display_data"
    }
   ],
   "source": [
    "# plot results\n",
    "print(\"Results for fit {0}\".format(f))\n",
    "B = FIT[f].extract(pars=['B'])['B'][-1].T\n",
    "utils.plot_betas(B, DATA[d]['B'])\n",
    "\n",
    "utils.plot_ppc(DATA[d], FIT[f])"
   ]
  },
  {
   "cell_type": "code",
   "execution_count": 10,
   "metadata": {},
   "outputs": [
    {
     "name": "stdout",
     "output_type": "stream",
     "text": [
      "n_eff / iter looks reasonable for all parameters\n",
      "Rhat for parameter L_Omega[1,1] is nan!\n",
      "Rhat for parameter L_Omega[1,2] is nan!\n",
      "Rhat for parameter L_Omega[1,3] is nan!\n",
      "Rhat for parameter L_Omega[2,3] is nan!\n",
      "Rhat for parameter L_Omega[1,4] is nan!\n",
      "Rhat for parameter L_Omega[2,4] is nan!\n",
      "Rhat for parameter L_Omega[3,4] is nan!\n",
      "Rhat for parameter L_Omega[1,5] is nan!\n",
      "Rhat for parameter L_Omega[2,5] is nan!\n",
      "Rhat for parameter L_Omega[3,5] is nan!\n",
      "Rhat for parameter L_Omega[4,5] is nan!\n",
      "Rhat for parameter L_Omega[1,6] is nan!\n",
      "Rhat for parameter L_Omega[2,6] is nan!\n",
      "Rhat for parameter L_Omega[3,6] is nan!\n",
      "Rhat for parameter L_Omega[4,6] is nan!\n",
      "Rhat for parameter L_Omega[5,6] is nan!\n",
      "Rhat for parameter L_Omega[1,7] is nan!\n",
      "Rhat for parameter L_Omega[2,7] is nan!\n",
      "Rhat for parameter L_Omega[3,7] is nan!\n",
      "Rhat for parameter L_Omega[4,7] is nan!\n",
      "Rhat for parameter L_Omega[5,7] is nan!\n",
      "Rhat for parameter L_Omega[6,7] is nan!\n",
      "Rhat for parameter L_Omega[1,8] is nan!\n",
      "Rhat for parameter L_Omega[2,8] is nan!\n",
      "Rhat for parameter L_Omega[3,8] is nan!\n",
      "Rhat for parameter L_Omega[4,8] is nan!\n",
      "Rhat for parameter L_Omega[5,8] is nan!\n",
      "Rhat for parameter L_Omega[6,8] is nan!\n",
      "Rhat for parameter L_Omega[7,8] is nan!\n",
      "Rhat for parameter L_Omega[1,9] is nan!\n",
      "Rhat for parameter L_Omega[2,9] is nan!\n",
      "Rhat for parameter L_Omega[3,9] is nan!\n",
      "Rhat for parameter L_Omega[4,9] is nan!\n",
      "Rhat for parameter L_Omega[5,9] is nan!\n",
      "Rhat for parameter L_Omega[6,9] is nan!\n",
      "Rhat for parameter L_Omega[7,9] is nan!\n",
      "Rhat for parameter L_Omega[8,9] is nan!\n",
      "Rhat for parameter L_Omega[1,10] is nan!\n",
      "Rhat for parameter L_Omega[2,10] is nan!\n",
      "Rhat for parameter L_Omega[3,10] is nan!\n",
      "Rhat for parameter L_Omega[4,10] is nan!\n",
      "Rhat for parameter L_Omega[5,10] is nan!\n",
      "Rhat for parameter L_Omega[6,10] is nan!\n",
      "Rhat for parameter L_Omega[7,10] is nan!\n",
      "Rhat for parameter L_Omega[8,10] is nan!\n",
      "Rhat for parameter L_Omega[9,10] is nan!\n",
      "Rhat for parameter L_Omega[1,11] is nan!\n",
      "Rhat for parameter L_Omega[2,11] is nan!\n",
      "Rhat for parameter L_Omega[3,11] is nan!\n",
      "Rhat for parameter L_Omega[4,11] is nan!\n",
      "Rhat for parameter L_Omega[5,11] is nan!\n",
      "Rhat for parameter L_Omega[6,11] is nan!\n",
      "Rhat for parameter L_Omega[7,11] is nan!\n",
      "Rhat for parameter L_Omega[8,11] is nan!\n",
      "Rhat for parameter L_Omega[9,11] is nan!\n",
      "Rhat for parameter L_Omega[10,11] is nan!\n",
      "Rhat for parameter L_Omega[1,12] is nan!\n",
      "Rhat for parameter L_Omega[2,12] is nan!\n",
      "Rhat for parameter L_Omega[3,12] is nan!\n",
      "Rhat for parameter L_Omega[4,12] is nan!\n",
      "Rhat for parameter L_Omega[5,12] is nan!\n",
      "Rhat for parameter L_Omega[6,12] is nan!\n",
      "Rhat for parameter L_Omega[7,12] is nan!\n",
      "Rhat for parameter L_Omega[8,12] is nan!\n",
      "Rhat for parameter L_Omega[9,12] is nan!\n",
      "Rhat for parameter L_Omega[10,12] is nan!\n",
      "Rhat for parameter L_Omega[11,12] is nan!\n",
      "Rhat for parameter Y_ppc[11,3] is nan!\n",
      "Rhat for parameter Y_ppc[8,4] is nan!\n",
      "Rhat for parameter Y_ppc[20,4] is nan!\n",
      "Rhat for parameter Y_ppc[34,4] is nan!\n",
      "Rhat for parameter Y_ppc[75,5] is nan!\n",
      "Rhat for parameter Y_ppc[49,6] is nan!\n",
      "Rhat for parameter Y_ppc[78,7] is nan!\n",
      "  Rhat above 1.1 indicates that the chains very likely have not mixed\n",
      "0.0 of 4000 iterations ended with a divergence (0.0%)\n",
      "0 of 4000 iterations saturated the maximum tree depth of 10 (0.0%)\n",
      "E-BFMI indicated no pathological behavior\n"
     ]
    }
   ],
   "source": [
    "stan_utility.check_all_diagnostics(FIT[f])"
   ]
  },
  {
   "cell_type": "code",
   "execution_count": null,
   "metadata": {},
   "outputs": [],
   "source": []
  }
 ],
 "metadata": {
  "kernelspec": {
   "display_name": "Python 3",
   "language": "python",
   "name": "python3"
  },
  "language_info": {
   "codemirror_mode": {
    "name": "ipython",
    "version": 3
   },
   "file_extension": ".py",
   "mimetype": "text/x-python",
   "name": "python",
   "nbconvert_exporter": "python",
   "pygments_lexer": "ipython3",
   "version": "3.6.5"
  }
 },
 "nbformat": 4,
 "nbformat_minor": 2
}
