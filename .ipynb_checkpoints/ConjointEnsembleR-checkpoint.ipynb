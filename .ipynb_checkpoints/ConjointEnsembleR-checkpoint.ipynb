{
 "cells": [
  {
   "cell_type": "code",
   "execution_count": 2,
   "metadata": {},
   "outputs": [
    {
     "name": "stderr",
     "output_type": "stream",
     "text": [
      "── Attaching packages ─────────────────────────────────────── tidyverse 1.2.1 ──\n",
      "✔ tibble  1.4.2     ✔ purrr   0.2.5\n",
      "✔ tidyr   0.8.1     ✔ dplyr   0.7.6\n",
      "✔ readr   1.1.1     ✔ stringr 1.3.1\n",
      "✔ tibble  1.4.2     ✔ forcats 0.3.0\n",
      "── Conflicts ────────────────────────────────────────── tidyverse_conflicts() ──\n",
      "✖ tidyr::extract() masks rstan::extract()\n",
      "✖ dplyr::filter()  masks stats::filter()\n",
      "✖ dplyr::lag()     masks stats::lag()\n"
     ]
    },
    {
     "ename": "ERROR",
     "evalue": "Error: package or namespace load failed for ‘mvtnorm’ in dyn.load(file, DLLpath = DLLpath, ...):\n unable to load shared object '/Users/derekmiller/anaconda3/lib/R/library/mvtnorm/libs/mvtnorm.so':\n  dlopen(/Users/derekmiller/anaconda3/lib/R/library/mvtnorm/libs/mvtnorm.so, 6): Library not loaded: @rpath/libintl.9.dylib\n  Referenced from: /Users/derekmiller/anaconda3/lib/R/library/mvtnorm/libs/mvtnorm.so\n  Reason: image not found\n",
     "output_type": "error",
     "traceback": [
      "Error: package or namespace load failed for ‘mvtnorm’ in dyn.load(file, DLLpath = DLLpath, ...):\n unable to load shared object '/Users/derekmiller/anaconda3/lib/R/library/mvtnorm/libs/mvtnorm.so':\n  dlopen(/Users/derekmiller/anaconda3/lib/R/library/mvtnorm/libs/mvtnorm.so, 6): Library not loaded: @rpath/libintl.9.dylib\n  Referenced from: /Users/derekmiller/anaconda3/lib/R/library/mvtnorm/libs/mvtnorm.so\n  Reason: image not found\nTraceback:\n",
      "1. library(mvtnorm)",
      "2. tryCatch({\n .     attr(package, \"LibPath\") <- which.lib.loc\n .     ns <- loadNamespace(package, lib.loc)\n .     env <- attachNamespace(ns, pos = pos, deps)\n . }, error = function(e) {\n .     P <- if (!is.null(cc <- conditionCall(e))) \n .         paste(\" in\", deparse(cc)[1L])\n .     else \"\"\n .     msg <- gettextf(\"package or namespace load failed for %s%s:\\n %s\", \n .         sQuote(package), P, conditionMessage(e))\n .     if (logical.return) \n .         message(paste(\"Error:\", msg), domain = NA)\n .     else stop(msg, call. = FALSE, domain = NA)\n . })",
      "3. tryCatchList(expr, classes, parentenv, handlers)",
      "4. tryCatchOne(expr, names, parentenv, handlers[[1L]])",
      "5. value[[3L]](cond)",
      "6. stop(msg, call. = FALSE, domain = NA)"
     ]
    }
   ],
   "source": [
    "# This code implements a hierarchical MNL choice model\n",
    "# with a multivariate normal distribution of heterogeneity via Stan.\n",
    "\n",
    "# Preamble ----------------------------------------------------------------\n",
    "# Load libraries.\n",
    "library(loo)\n",
    "library(rstan)\n",
    "library(tidyverse)\n",
    "library(mvtnorm)\n",
    "library(rstan)\n",
    "library(bayesplot)\n",
    "\n",
    "# Set Stan options.\n",
    "rstan_options(auto_write = TRUE)\n",
    "options(mc.cores = parallel::detectCores())\n",
    "\n",
    "# Parameter Recovery ------------------------------------------------------\n",
    "nresp <- 100    # Number of respondents.\n",
    "nscns <- 10     # Number of choice scenarios for each respondent.\n",
    "nalts <- 4      # Number of alternatives in each choice scenario.\n",
    "nlvls <- 12     # Number of attribute levels for each alternative.\n",
    "ncovs <- 1      # Number of covariates for each respondent.\n",
    "\n",
    "# True Gamma (ncovs x nlvls) values and Vbeta (nlvls x nlvls) values.\n",
    "Gamma <- matrix(runif(ncovs * nlvls, -3, 4), nrow = nlvls, ncol = ncovs)\n",
    "Vbeta <- diag(nlvls) + .5 * matrix(1, nrow = nlvls, ncol = 1) %*% t(matrix(1, nrow = nlvls, ncol = 1))\n",
    "\n",
    "# Generate data.\n",
    "Y <- matrix(nrow = nresp, ncol = nscns)\n",
    "X <- array(dim = c(nresp, nscns, nalts, nlvls))\n",
    "Z <- matrix(nrow = ncovs, ncol = nresp)\n",
    "Beta <- matrix(nrow = nlvls, ncol = nresp)\n",
    "for (resp in 1:nresp) {\n",
    "  # Generate covariates for the distribution of heterogeneity.\n",
    "  z_resp <- 1\n",
    "  if (ncovs > 1) z_resp <- c(z_resp, round(runif(ncovs - 1)))\n",
    "  \n",
    "  # Generate individual-level betas.\n",
    "  beta <- rmvnorm(1, mean = Gamma %*% z_resp, sigma = Vbeta)\n",
    "    \n",
    "  # Compute the latent utility a scenario at a time.\n",
    "  for (scn in 1:nscns) {\n",
    "    # Generate the design matrix for the given scenario.\n",
    "    X_scn <- matrix(round(runif(nalts * nlvls)), nrow = nalts, ncol = nlvls)\n",
    "    \n",
    "    # Compute and the latent utility for each alternative and find the max.\n",
    "    U_scn <- X_scn %*% as.vector(beta) + matrix((-log(-log(runif(nalts)))), ncol = 1)\n",
    "    \n",
    "    # Save each scenario's data.\n",
    "    Y[resp, scn] <- which(U_scn == max(U_scn))\n",
    "    X[resp, scn, , ] <- X_scn\n",
    "  }\n",
    "  \n",
    "  # Save out each respondent's data.\n",
    "  Z[, resp] <- as.vector(z_resp)\n",
    "  Beta[, resp] <- as.vector(beta)\n",
    "}\n",
    "\n",
    "# Save data in a list.\n",
    "Data <- list(nresp = nresp, nscns = nscns, nalts = nalts, nlvls = nlvls, ncovs = ncovs,\n",
    "             Y = Y, X = X, Z = Z, Gamma = Gamma, Vbeta = Vbeta, Beta = Beta)\n",
    "\n",
    "log_lik_list <- list()\n",
    "for (k in 1:K){\n",
    "    # Fit the k-th model with Stan\n",
    "    fit <- stan(\"./MODELS/HBMNL_1.1.stan\", data=list(y=y, X=X[,k], n=length(y), p=1))\n",
    "    log_lik_list[[k]] <- extract(fit)[[\"log_lik\"]]\n",
    "}"
   ]
  },
  {
   "cell_type": "code",
   "execution_count": null,
   "metadata": {},
   "outputs": [],
   "source": []
  }
 ],
 "metadata": {
  "kernelspec": {
   "display_name": "R",
   "language": "R",
   "name": "ir"
  },
  "language_info": {
   "codemirror_mode": "r",
   "file_extension": ".r",
   "mimetype": "text/x-r-source",
   "name": "R",
   "pygments_lexer": "r",
   "version": "3.4.1"
  }
 },
 "nbformat": 4,
 "nbformat_minor": 2
}
