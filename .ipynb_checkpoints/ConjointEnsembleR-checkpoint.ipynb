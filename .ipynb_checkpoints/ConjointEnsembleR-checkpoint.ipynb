{
 "cells": [
  {
   "cell_type": "code",
   "execution_count": 1,
   "metadata": {},
   "outputs": [
    {
     "name": "stderr",
     "output_type": "stream",
     "text": [
      "This is loo version 2.0.0.\n",
      "**NOTE: As of version 2.0.0 loo defaults to 1 core but we recommend using as many as possible. Use the 'cores' argument or set options(mc.cores = NUM_CORES) for an entire session. Visit mc-stan.org/loo/news for details on other changes.\n"
     ]
    },
    {
     "ename": "ERROR",
     "evalue": "Error in library(rstan): there is no package called ‘rstan’\n",
     "output_type": "error",
     "traceback": [
      "Error in library(rstan): there is no package called ‘rstan’\nTraceback:\n",
      "1. library(rstan)",
      "2. stop(txt, domain = NA)"
     ]
    }
   ],
   "source": [
    "library(loo)\n",
    "library(rstan)"
   ]
  },
  {
   "cell_type": "code",
   "execution_count": 2,
   "metadata": {},
   "outputs": [
    {
     "name": "stderr",
     "output_type": "stream",
     "text": [
      "also installing the dependencies ‘miniUI’, ‘htmlwidgets’, ‘crosstalk’, ‘PKI’, ‘RCurl’, ‘RJSONIO’, ‘igraph’, ‘colourpicker’, ‘DT’, ‘dygraphs’, ‘gtools’, ‘rsconnect’, ‘shinyjs’, ‘shinythemes’, ‘threejs’, ‘shinystan’\n",
      "\n",
      "Warning message in install.packages(\"rstan\", dependencies = TRUE):\n",
      "“installation of package ‘miniUI’ had non-zero exit status”Warning message in install.packages(\"rstan\", dependencies = TRUE):\n",
      "“installation of package ‘crosstalk’ had non-zero exit status”Warning message in install.packages(\"rstan\", dependencies = TRUE):\n",
      "“installation of package ‘PKI’ had non-zero exit status”Warning message in install.packages(\"rstan\", dependencies = TRUE):\n",
      "“installation of package ‘RCurl’ had non-zero exit status”Warning message in install.packages(\"rstan\", dependencies = TRUE):\n",
      "“installation of package ‘RJSONIO’ had non-zero exit status”Warning message in install.packages(\"rstan\", dependencies = TRUE):\n",
      "“installation of package ‘igraph’ had non-zero exit status”Warning message in install.packages(\"rstan\", dependencies = TRUE):\n",
      "“installation of package ‘gtools’ had non-zero exit status”Warning message in install.packages(\"rstan\", dependencies = TRUE):\n",
      "“installation of package ‘shinythemes’ had non-zero exit status”Warning message in install.packages(\"rstan\", dependencies = TRUE):\n",
      "“installation of package ‘rstan’ had non-zero exit status”Warning message in install.packages(\"rstan\", dependencies = TRUE):\n",
      "“installation of package ‘colourpicker’ had non-zero exit status”Warning message in install.packages(\"rstan\", dependencies = TRUE):\n",
      "“installation of package ‘DT’ had non-zero exit status”Warning message in install.packages(\"rstan\", dependencies = TRUE):\n",
      "“installation of package ‘dygraphs’ had non-zero exit status”Warning message in install.packages(\"rstan\", dependencies = TRUE):\n",
      "“installation of package ‘rsconnect’ had non-zero exit status”Warning message in install.packages(\"rstan\", dependencies = TRUE):\n",
      "“installation of package ‘threejs’ had non-zero exit status”Warning message in install.packages(\"rstan\", dependencies = TRUE):\n",
      "“installation of package ‘shinystan’ had non-zero exit status”Updating HTML index of packages in '.Library'\n",
      "Making 'packages.html' ... done\n"
     ]
    }
   ],
   "source": [
    "install.packages(\"rstan\", dependencies=TRUE)"
   ]
  },
  {
   "cell_type": "code",
   "execution_count": null,
   "metadata": {
    "collapsed": true
   },
   "outputs": [],
   "source": []
  }
 ],
 "metadata": {
  "kernelspec": {
   "display_name": "R",
   "language": "R",
   "name": "ir"
  },
  "language_info": {
   "codemirror_mode": "r",
   "file_extension": ".r",
   "mimetype": "text/x-r-source",
   "name": "R",
   "pygments_lexer": "r",
   "version": "3.4.1"
  }
 },
 "nbformat": 4,
 "nbformat_minor": 2
}
