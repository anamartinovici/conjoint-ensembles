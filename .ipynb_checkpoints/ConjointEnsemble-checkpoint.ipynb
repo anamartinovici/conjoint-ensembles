{
 "cells": [
  {
   "cell_type": "code",
   "execution_count": 4,
   "metadata": {
    "collapsed": true
   },
   "outputs": [],
   "source": [
    "import numpy as np\n",
    "from scipy import stats\n",
    "from sklearn.linear_model import LogisticRegression\n",
    "from sklearn.ensemble import VotingClassifier\n",
    "from PYTHON import generate_simulated_data as gsd\n",
    "import matplotlib.pyplot as plt\n",
    "import pystan\n",
    "import pickle\n",
    "%matplotlib inline"
   ]
  },
  {
   "cell_type": "code",
   "execution_count": 2,
   "metadata": {},
   "outputs": [
    {
     "name": "stderr",
     "output_type": "stream",
     "text": [
      "INFO:pystan:COMPILING THE C++ CODE FOR MODEL anon_model_9a49866e405f4d2d67a49b54d4d9997a NOW.\n"
     ]
    }
   ],
   "source": [
    "data_dict = gsd.generate_simulated_data()\n",
    "\n",
    "model_name = 'HBMNL_1.1'\n",
    "\n",
    "with open('./MODELS/{0}.stan'.format(model_name), 'r') as f:\n",
    "    stan_model = f.read()\n",
    "\n",
    "try:\n",
    "    sm = pickle.load(open('./MODELS/{0}.pkl'.format(model_name), 'rb'))\n",
    "\n",
    "except:\n",
    "    sm = pystan.StanModel(model_code=stan_model)\n",
    "    with open('./MODELS/{0}.pkl'.format(model_name), 'wb') as f:\n",
    "        pickle.dump(sm, f)\n",
    "\n",
    "fit01 = sm.sampling(data=data_dict, iter=800, chains=2)\n",
    "fit02 = sm.sampling(data=data_dict, iter=800, chains=2, control={'max_treedepth':3})\n",
    "fit03 = sm.sampling(data=data_dict, iter=800, chains=2, control={'max_treedepth':3})\n",
    "\n",
    "Y_pred01 = fit01.extract(['log_lik'])['log_lik']\n",
    "Y_pred02 = fit02.extract(['log_lik'])['log_lik']\n",
    "Y_pred03 = fit03.extract(['log_lik'])['log_lik']"
   ]
  },
  {
   "cell_type": "code",
   "execution_count": null,
   "metadata": {
    "collapsed": true
   },
   "outputs": [],
   "source": []
  }
 ],
 "metadata": {
  "kernelspec": {
   "display_name": "Python 3",
   "language": "python",
   "name": "python3"
  },
  "language_info": {
   "codemirror_mode": {
    "name": "ipython",
    "version": 3
   },
   "file_extension": ".py",
   "mimetype": "text/x-python",
   "name": "python",
   "nbconvert_exporter": "python",
   "pygments_lexer": "ipython3",
   "version": "3.6.5"
  }
 },
 "nbformat": 4,
 "nbformat_minor": 2
}
