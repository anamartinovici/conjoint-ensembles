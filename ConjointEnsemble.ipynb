{
 "cells": [
  {
   "cell_type": "code",
   "execution_count": 8,
   "metadata": {
    "collapsed": true
   },
   "outputs": [],
   "source": [
    "import numpy as np\n",
    "from sklearn.linear_model import LogisticRegression\n",
    "from PYTHON import generate_simulated_data as gsd\n",
    "import matplotlib.pyplot as plt\n",
    "import pystan\n",
    "import pickle\n",
    "%matplotlib inline"
   ]
  },
  {
   "cell_type": "code",
   "execution_count": 24,
   "metadata": {},
   "outputs": [],
   "source": [
    "data_dict = gsd.generate_simulated_data()\n",
    "\n",
    "model_name = 'HBMNL_1.2'\n",
    "\n",
    "with open('./MODELS/{0}.stan'.format(model_name), 'r') as f:\n",
    "    stan_model = f.read()\n",
    "\n",
    "try:\n",
    "    sm = pickle.load(open('./MODELS/{0}.pkl'.format(model_name), 'rb'))\n",
    "\n",
    "except:\n",
    "    sm = pystan.StanModel(model_code=stan_model)\n",
    "    with open('./MODELS/{0}.pkl'.format(model_name), 'wb') as f:\n",
    "        pickle.dump(sm, f)\n",
    "\n",
    "fit01 = sm.sampling(data=data_dict, iter=800, chains=2)\n",
    "fit02 = sm.sampling(data=data_dict, iter=800, chains=2, control={'max_treedepth':3})\n",
    "\n",
    "Y_pred01 = fit01.extract(['Yp'])['Yp']\n",
    "Y_pred02 = fit02.extract(['Yp'])['Yp']"
   ]
  },
  {
   "cell_type": "code",
   "execution_count": 25,
   "metadata": {},
   "outputs": [
    {
     "name": "stdout",
     "output_type": "stream",
     "text": [
      "[[ 4.  4.]\n",
      " [ 3.  2.]\n",
      " [ 3.  3.]\n",
      " ..., \n",
      " [ 4.  4.]\n",
      " [ 4.  1.]\n",
      " [ 3.  3.]]\n"
     ]
    }
   ],
   "source": [
    "# model predictions as a matrix\n",
    "P = np.row_stack((Y_pred01[-1].flatten(), Y_pred02[-1].flatten())).T\n",
    "print(P)"
   ]
  },
  {
   "cell_type": "code",
   "execution_count": 26,
   "metadata": {},
   "outputs": [],
   "source": [
    "stacking_model = LogisticRegression(solver='lbfgs',multi_class='multinomial')\n",
    "fitted_model = stacking_model.fit(P, data_dict['Y'].flatten())"
   ]
  },
  {
   "cell_type": "code",
   "execution_count": 27,
   "metadata": {},
   "outputs": [
    {
     "data": {
      "text/plain": [
       "array([[-0.58747976, -0.27578028],\n",
       "       [-0.1613593 , -0.11281218],\n",
       "       [ 0.18782501,  0.09415317],\n",
       "       [ 0.56101406,  0.2944393 ]])"
      ]
     },
     "execution_count": 27,
     "metadata": {},
     "output_type": "execute_result"
    }
   ],
   "source": [
    "fitted_model.coef_"
   ]
  },
  {
   "cell_type": "code",
   "execution_count": 29,
   "metadata": {},
   "outputs": [
    {
     "data": {
      "text/plain": [
       "(800, 100, 12)"
      ]
     },
     "execution_count": 29,
     "metadata": {},
     "output_type": "execute_result"
    }
   ],
   "source": [
    "fit01.extract(['B'])['B'].shape"
   ]
  },
  {
   "cell_type": "code",
   "execution_count": null,
   "metadata": {
    "collapsed": true
   },
   "outputs": [],
   "source": []
  }
 ],
 "metadata": {
  "kernelspec": {
   "display_name": "Python 3",
   "language": "python",
   "name": "python3"
  },
  "language_info": {
   "codemirror_mode": {
    "name": "ipython",
    "version": 3
   },
   "file_extension": ".py",
   "mimetype": "text/x-python",
   "name": "python",
   "nbconvert_exporter": "python",
   "pygments_lexer": "ipython3",
   "version": "3.6.1"
  }
 },
 "nbformat": 4,
 "nbformat_minor": 2
}
