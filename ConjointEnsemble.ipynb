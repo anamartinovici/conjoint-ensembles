{
 "cells": [
  {
   "cell_type": "code",
   "execution_count": 1,
   "metadata": {},
   "outputs": [],
   "source": [
    "import numpy as np\n",
    "from scipy import stats\n",
    "from sklearn.linear_model import LogisticRegression\n",
    "from sklearn.ensemble import VotingClassifier\n",
    "from PYTHON import generate_simulated_data as gsd\n",
    "import matplotlib.pyplot as plt\n",
    "import pystan\n",
    "import pickle\n",
    "%matplotlib inline"
   ]
  },
  {
   "cell_type": "code",
   "execution_count": 2,
   "metadata": {},
   "outputs": [
    {
     "name": "stderr",
     "output_type": "stream",
     "text": [
      "/Users/derekmiller/anaconda3/lib/python3.6/site-packages/pystan/misc.py:399: FutureWarning: Conversion of the second argument of issubdtype from `float` to `np.floating` is deprecated. In future, it will be treated as `np.float64 == np.dtype(float).type`.\n",
      "  elif np.issubdtype(np.asarray(v).dtype, float):\n"
     ]
    }
   ],
   "source": [
    "data_dict = gsd.generate_simulated_data()\n",
    "\n",
    "model_name = 'HBMNL_1.1'\n",
    "\n",
    "with open('./MODELS/{0}.stan'.format(model_name), 'r') as f:\n",
    "    stan_model = f.read()\n",
    "\n",
    "try:\n",
    "    sm = pickle.load(open('./MODELS/{0}.pkl'.format(model_name), 'rb'))\n",
    "\n",
    "except:\n",
    "    sm = pystan.StanModel(model_code=stan_model)\n",
    "    with open('./MODELS/{0}.pkl'.format(model_name), 'wb') as f:\n",
    "        pickle.dump(sm, f)\n",
    "\n",
    "LL = list()\n",
    "for i in range(3):\n",
    "    fit = sm.sampling(data=data_dict, iter=800, chains=2)\n",
    "    LL.append(fit.extract(['log_lik'])['log_lik'].flatten().tolist())"
   ]
  },
  {
   "cell_type": "code",
   "execution_count": null,
   "metadata": {
    "scrolled": true
   },
   "outputs": [],
   "source": []
  }
 ],
 "metadata": {
  "kernelspec": {
   "display_name": "Python 3",
   "language": "python",
   "name": "python3"
  },
  "language_info": {
   "codemirror_mode": {
    "name": "ipython",
    "version": 3
   },
   "file_extension": ".py",
   "mimetype": "text/x-python",
   "name": "python",
   "nbconvert_exporter": "python",
   "pygments_lexer": "ipython3",
   "version": "3.6.5"
  }
 },
 "nbformat": 4,
 "nbformat_minor": 2
}
